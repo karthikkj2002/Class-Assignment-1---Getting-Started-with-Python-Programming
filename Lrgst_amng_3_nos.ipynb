{
  "nbformat": 4,
  "nbformat_minor": 0,
  "metadata": {
    "colab": {
      "name": "Lrgst amng 3 nos.ipynb",
      "provenance": [],
      "authorship_tag": "ABX9TyMYqpDIvm/6i5ZxKedVSStf",
      "include_colab_link": true
    },
    "kernelspec": {
      "name": "python3",
      "display_name": "Python 3"
    }
  },
  "cells": [
    {
      "cell_type": "markdown",
      "metadata": {
        "id": "view-in-github",
        "colab_type": "text"
      },
      "source": [
        "<a href=\"https://colab.research.google.com/github/karthikkj2002/Class-Assignment-1---Getting-Started-with-Python-Programming/blob/master/Lrgst_amng_3_nos.ipynb\" target=\"_parent\"><img src=\"https://colab.research.google.com/assets/colab-badge.svg\" alt=\"Open In Colab\"/></a>"
      ]
    },
    {
      "cell_type": "code",
      "metadata": {
        "id": "aKaCjW-nv0XN",
        "outputId": "e85aa2ab-7068-4fec-a4de-2a9b43a3ef1c",
        "colab": {
          "base_uri": "https://localhost:8080/",
          "height": 85
        }
      },
      "source": [
        " num1 = input(\"enter 1st no\")\n",
        "num2 = input(\"enter 2nd no\")\n",
        "num3 = input(\"enter 3rd no\")\n",
        " \n",
        " \n",
        "if (num1 >= num2) and (num1 >= num3):\n",
        "   largest = num1\n",
        "elif (num2 >= num1) and (num2 >= num3):\n",
        "   largest = num2\n",
        "else:\n",
        "   largest = num3\n",
        " \n",
        "print(\"The largest number is\", largest)"
      ],
      "execution_count": 3,
      "outputs": [
        {
          "output_type": "stream",
          "text": [
            "enter 1st no1\n",
            "enter 2nd no4\n",
            "enter 3rd no9\n",
            "The largest number is 9\n"
          ],
          "name": "stdout"
        }
      ]
    }
  ]
}