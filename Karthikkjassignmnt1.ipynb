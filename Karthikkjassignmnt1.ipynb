{
  "nbformat": 4,
  "nbformat_minor": 0,
  "metadata": {
    "colab": {
      "name": "Karthikkjassignmnt1.ipynb",
      "provenance": [],
      "authorship_tag": "ABX9TyNM2yE7kyNVZUJmVZgYFFxW",
      "include_colab_link": true
    },
    "kernelspec": {
      "name": "python3",
      "display_name": "Python 3"
    }
  },
  "cells": [
    {
      "cell_type": "markdown",
      "metadata": {
        "id": "view-in-github",
        "colab_type": "text"
      },
      "source": [
        "<a href=\"https://colab.research.google.com/github/karthikkj2002/Class-Assignment-1---Getting-Started-with-Python-Programming/blob/master/Karthikkjassignmnt1.ipynb\" target=\"_parent\"><img src=\"https://colab.research.google.com/assets/colab-badge.svg\" alt=\"Open In Colab\"/></a>"
      ]
    },
    {
      "cell_type": "code",
      "metadata": {
        "id": "BoaEMd3_Jtfi",
        "colab_type": "code",
        "colab": {
          "base_uri": "https://localhost:8080/",
          "height": 88
        },
        "outputId": "f5ab36c3-3cee-4597-c85f-a3bc0bbb9b6d"
      },
      "source": [
        "#question1\n",
        "print('Name: Karthik kj')\n",
        "print('address : Thiruthikkavu, chelavoor, kozhikode')\n",
        "print('telephone no : 9562166840')"
      ],
      "execution_count": 3,
      "outputs": [
        {
          "output_type": "stream",
          "text": [
            "Name: Karthik kj\n",
            "address : Thiruthikkavu, chelavoor, kozhikode\n",
            "telephone no : 9562166840\n"
          ],
          "name": "stdout"
        }
      ]
    },
    {
      "cell_type": "code",
      "metadata": {
        "id": "W15gB3hTMwwO",
        "colab_type": "code",
        "colab": {
          "base_uri": "https://localhost:8080/",
          "height": 51
        },
        "outputId": "605dd9ce-f131-4cea-dee6-6990aa9d6112"
      },
      "source": [
        "#question2\n",
        "Name=input('enter your name:')\n",
        "print('your name is ',Name)"
      ],
      "execution_count": 4,
      "outputs": [
        {
          "output_type": "stream",
          "text": [
            "enter your name:Karthik kj\n",
            "your name is  Karthik kj\n"
          ],
          "name": "stdout"
        }
      ]
    },
    {
      "cell_type": "code",
      "metadata": {
        "id": "K2QHJQjeNM89",
        "colab_type": "code",
        "colab": {
          "base_uri": "https://localhost:8080/",
          "height": 68
        },
        "outputId": "be2d0f9e-3d22-402b-b503-92c173238192"
      },
      "source": [
        "#question3\n",
        "Length=float(input('enter the length :'))\n",
        "Breadth=float(input('enter the breadth:'))\n",
        "Area=Length*Breadth\n",
        "print('Area of rectangle :',Area)"
      ],
      "execution_count": 7,
      "outputs": [
        {
          "output_type": "stream",
          "text": [
            "enter the length :55\n",
            "enter the breadth:44\n",
            "Area of rectangle : 2420.0\n"
          ],
          "name": "stdout"
        }
      ]
    },
    {
      "cell_type": "code",
      "metadata": {
        "id": "49H0x8hnOY9G",
        "colab_type": "code",
        "colab": {
          "base_uri": "https://localhost:8080/",
          "height": 68
        },
        "outputId": "6d9ab384-ad42-4b19-e80f-758f10dab6e3"
      },
      "source": [
        "#question4\n",
        "Base=float(input('enter the base of triangle:'))\n",
        "Height=float(input('enter the height of triangle:'))\n",
        "Area=.5*Base*Height\n",
        "print('area of triangle:',Area)"
      ],
      "execution_count": 8,
      "outputs": [
        {
          "output_type": "stream",
          "text": [
            "enter the base of triangle:66\n",
            "enter the height of triangle:65\n",
            "area of triangle: 2145.0\n"
          ],
          "name": "stdout"
        }
      ]
    },
    {
      "cell_type": "code",
      "metadata": {
        "id": "70a8b52uPSLf",
        "colab_type": "code",
        "colab": {
          "base_uri": "https://localhost:8080/",
          "height": 51
        },
        "outputId": "c597f6d2-bb6e-49fd-de06-2ee06b673edb"
      },
      "source": [
        "#question5\n",
        "Radius=float(input('enter the radius:'))\n",
        "Area=3.14*Radius**2\n",
        "print('area of the circle: ',Area)"
      ],
      "execution_count": 9,
      "outputs": [
        {
          "output_type": "stream",
          "text": [
            "enter the radius:96\n",
            "area of the circle:  28938.24\n"
          ],
          "name": "stdout"
        }
      ]
    },
    {
      "cell_type": "code",
      "metadata": {
        "id": "B0qGvSO9P1UW",
        "colab_type": "code",
        "colab": {
          "base_uri": "https://localhost:8080/",
          "height": 68
        },
        "outputId": "0f920111-1368-4b39-b7a3-6232606d2f12"
      },
      "source": [
        "#question6\n",
        "Name=input('enter your name :')\n",
        "Age=input('enter your age :')\n",
        "print('Name :',Name ,'Age :',Age)"
      ],
      "execution_count": 10,
      "outputs": [
        {
          "output_type": "stream",
          "text": [
            "enter your name :Karthik kj\n",
            "enter your age :18\n",
            "Name : Karthik kj Age : 18\n"
          ],
          "name": "stdout"
        }
      ]
    },
    {
      "cell_type": "code",
      "metadata": {
        "id": "NraS4abxQotO",
        "colab_type": "code",
        "colab": {
          "base_uri": "https://localhost:8080/",
          "height": 68
        },
        "outputId": "4528eb23-8fab-4939-ce0a-5970a842ba60"
      },
      "source": [
        "#question7\n",
        "number=float(input('enter a number:'))\n",
        "print('one is added')\n",
        "print(number+1)"
      ],
      "execution_count": 11,
      "outputs": [
        {
          "output_type": "stream",
          "text": [
            "enter a number:6\n",
            "one is added\n",
            "7.0\n"
          ],
          "name": "stdout"
        }
      ]
    },
    {
      "cell_type": "code",
      "metadata": {
        "id": "uCbToQlnRIv1",
        "colab_type": "code",
        "colab": {
          "base_uri": "https://localhost:8080/",
          "height": 51
        },
        "outputId": "4792f411-c2db-4d85-bde6-8a3c4d2556e4"
      },
      "source": [
        "#question8\n",
        "Name=input('enter first name:')\n",
        "print('first name is :',Name)"
      ],
      "execution_count": 12,
      "outputs": [
        {
          "output_type": "stream",
          "text": [
            "enter first name:Karthik\n",
            "first name is : Karthik\n"
          ],
          "name": "stdout"
        }
      ]
    }
  ]
}