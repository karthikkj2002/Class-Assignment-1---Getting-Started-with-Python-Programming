{
  "nbformat": 4,
  "nbformat_minor": 0,
  "metadata": {
    "colab": {
      "name": "Untitled",
      "provenance": [],
      "authorship_tag": "ABX9TyNcgLpNrf8p4zIURDftL/Rp",
      "include_colab_link": true
    },
    "kernelspec": {
      "name": "python3",
      "display_name": "Python 3"
    }
  },
  "cells": [
    {
      "cell_type": "markdown",
      "metadata": {
        "id": "view-in-github",
        "colab_type": "text"
      },
      "source": [
        "<a href=\"https://colab.research.google.com/github/karthikkj2002/Class-Assignment-1---Getting-Started-with-Python-Programming/blob/master/Untitled.ipynb\" target=\"_parent\"><img src=\"https://colab.research.google.com/assets/colab-badge.svg\" alt=\"Open In Colab\"/></a>"
      ]
    },
    {
      "cell_type": "code",
      "metadata": {
        "id": "gZ-0WJrX3vF8"
      },
      "source": [
        ""
      ],
      "execution_count": null,
      "outputs": []
    },
    {
      "cell_type": "markdown",
      "metadata": {
        "id": "f409SjSY3v7v"
      },
      "source": [
        "1."
      ]
    },
    {
      "cell_type": "code",
      "metadata": {
        "id": "oG12CeR03wyh"
      },
      "source": [
        " \n",
        "def sum_odd(lst):\n",
        "  sum=0\n",
        "  for i in lst:\n",
        "    if i%2!=0:\n",
        "      sum+=i\n",
        "  print(sum)\n",
        " \n",
        "sum_odd([1,2,3,5,6,7])"
      ],
      "execution_count": null,
      "outputs": []
    },
    {
      "cell_type": "markdown",
      "metadata": {
        "id": "kVwpPrO03xkf"
      },
      "source": [
        "2.\n",
        "Python pass Statement\n",
        "The pass statement is used as a placeholder for future code. When the pass statement is executed, nothing happens, but you avoid getting an error when empty code is not allowed. Empty code is not allowed in loops, function definitions, class definitions, or in if statements."
      ]
    },
    {
      "cell_type": "markdown",
      "metadata": {
        "id": "6zbXE4r534Ke"
      },
      "source": [
        "3."
      ]
    },
    {
      "cell_type": "code",
      "metadata": {
        "id": "C3B0ejWK3yiQ"
      },
      "source": [
        " \n",
        "def same(str1,str2):\n",
        "  if str1==str2:\n",
        "    print(\"same\")\n",
        "  else:\n",
        "    print(\"Not same\")"
      ],
      "execution_count": null,
      "outputs": []
    },
    {
      "cell_type": "markdown",
      "metadata": {
        "id": "mnTwJ9mE38fC"
      },
      "source": [
        "4."
      ]
    },
    {
      "cell_type": "code",
      "metadata": {
        "id": "GOLmjfyq3-xq"
      },
      "source": [
        " \n",
        "def search(list, platform):\n",
        "    for i in range(len(list)):\n",
        "        if list[i] == platform:\n",
        "            return True\n",
        "    return False\n",
        " \n",
        " \n",
        "streaming = ['netflix', 'hulu', 'disney+', 'appletv+']\n",
        "platform = 'netflix'\n",
        " \n",
        "if search(streaming, platform):\n",
        "    print(\"Platform is found\")\n",
        "else:\n",
        "    print(\"Platform does not found\")"
      ],
      "execution_count": null,
      "outputs": []
    },
    {
      "cell_type": "markdown",
      "metadata": {
        "id": "suCbNycX3_q7"
      },
      "source": [
        "5.\n",
        "The advantages of using functions are:\n",
        "Reducing duplication of code.\n",
        "Decomposing complex problems into simpler pieces.\n",
        "Improving clarity of the code.\n",
        "Reuse of code.\n",
        "Information hiding."
      ]
    },
    {
      "cell_type": "markdown",
      "metadata": {
        "id": "pVljbw0l4EKz"
      },
      "source": [
        "6.\n",
        "json module in Python module provides a method called dump() which converts the Python objects into appropriate json objects. It is a slight variant of dumps() method.\n",
        " \n",
        "Difference between dump() and dumps()\n",
        "dump()  dumps()\n",
        "The dump() method is used when the Python objects have to be stored in a file.  The dumps() is used when the objects are required to be in string format and is used for parsing, printing, etc, .\n",
        "The dump() needs the json file name in which the output has to be stored as an argument.    The dumps() does not require any such file name to be passed.\n",
        "This method writes in the memory and then command for writing to disk is executed separately    This method directly writes to the json file\n",
        "Faster method   2 times slower\n",
        "dump() and its arguments\n",
        "Syntax: json.dump(d, skipkeys=False, ensure_ascii=True, check_circular=True, allow_nan=True, cls=None, indent=None, separators=None)"
      ]
    },
    {
      "cell_type": "markdown",
      "metadata": {
        "id": "m-6G7pey4Hzc"
      },
      "source": [
        "7."
      ]
    },
    {
      "cell_type": "code",
      "metadata": {
        "id": "lwiVg_AB4KTk"
      },
      "source": [
        " \n",
        "def exist (file):\n",
        "  try:\n",
        "    fh=open(file,\"r\")\n",
        "    print(\"file is successfully opened\")\n",
        "  except FileNotFoundError:\n",
        "    print(\"Sorry!! File is not exist\")"
      ],
      "execution_count": null,
      "outputs": []
    },
    {
      "cell_type": "markdown",
      "metadata": {
        "id": "EcDj_gzm4LMn"
      },
      "source": [
        "8.\n",
        "Exception handling ensures that the flow of the program doesn't break when an exception occurs. For example, if a program has bunch of statements and an exception occurs mid way after executing certain statements then the statements after the exception will not execute and the program will terminate abruptly."
      ]
    },
    {
      "cell_type": "markdown",
      "metadata": {
        "id": "Nflak4qc4OqZ"
      },
      "source": [
        "9.\n",
        "Constructors are generally used for instantiating an object. The task of constructors is to initialize(assign values) to the data members of the class when an object of class is created.In Python the __init__() method is called the constructor and is always called when an object is created."
      ]
    },
    {
      "cell_type": "code",
      "metadata": {
        "id": "_Pq6Bj2O4ShW"
      },
      "source": [
        " \n",
        "class DemoClass:\n",
        "    # constructor\n",
        "    def __init__(self):\n",
        "        # initializing instance variable\n",
        "        self.num=100\n",
        " \n",
        "    # a method\n",
        "    def read_number(self):\n",
        "        print(self.num)\n",
        " \n",
        " \n",
        "# creating object of the class. This invokes constructor\n",
        "obj = DemoClass()\n",
        " \n",
        "# calling the instance method using the object obj\n",
        "obj.read_number()"
      ],
      "execution_count": null,
      "outputs": []
    },
    {
      "cell_type": "markdown",
      "metadata": {
        "id": "m5lTFTK74VJ3"
      },
      "source": [
        "10.\n",
        "__init__ method\n",
        "\"__init__\" is a reseved method in python classes. It is called as a constructor in object oriented terminology. This method is called when an object is created from a class and it allows the class to initialize the attributes of the class"
      ]
    },
    {
      "cell_type": "markdown",
      "metadata": {
        "id": "AClBJOPW4rmT"
      },
      "source": [
        " 13.a"
      ]
    },
    {
      "cell_type": "code",
      "metadata": {
        "id": "sjfUsQEc4vq1"
      },
      "source": [
        " \n",
        "#13 a\n",
        "X = [[12,7,3],\n",
        "    [4 ,5,6],\n",
        "    [7 ,8,9]]\n",
        " \n",
        "Y = [[5,8,1],\n",
        "    [6,7,3],\n",
        "    [4,5,9]]\n",
        " \n",
        "result = [[0,0,0],\n",
        "         [0,0,0],\n",
        "         [0,0,0]]\n",
        "for i in range(len(X)):\n",
        "  for j in range(len(X[0])):\n",
        "       result[i][j] = X[i][j] + Y[i][j]\n",
        " \n",
        "for r in result:\n",
        "   print(r)"
      ],
      "execution_count": null,
      "outputs": []
    },
    {
      "cell_type": "markdown",
      "metadata": {
        "id": "6wXkjI8p4whK"
      },
      "source": [
        "13.b"
      ]
    },
    {
      "cell_type": "code",
      "metadata": {
        "id": "8UCSbEZl4xRp"
      },
      "source": [
        " \n",
        "#13 b\n",
        "my_str = 'aIbohPhoBiA'\n",
        "my_str = my_str.casefold()\n",
        "rev_str = reversed(my_str)\n",
        "if list(my_str) == list(rev_str):\n",
        "   print(\"The string is a palindrome.\")\n",
        "else:\n",
        "   print(\"The string is not a palindrome.\")"
      ],
      "execution_count": null,
      "outputs": []
    },
    {
      "cell_type": "markdown",
      "metadata": {
        "id": "o-t68HjB4zmf"
      },
      "source": [
        "16.a\n",
        "A recursive function is a function defined in terms of itself via self-referential expressions. This means that the function will continue to call itself and repeat its behavior until some condition is met to return a result.\n",
        "#16 a\n",
        "def recur_factorial(n):\n",
        "   if n == 1:\n",
        "       return n\n",
        "   else:\n",
        "       return n*recur_factorial(n-1)\n",
        "num = 7\n",
        "if num < 0:\n",
        "   print(\"Sorry, factorial does not exist for negative numbers\")\n",
        "elif num == 0:\n",
        "   print(\"The factorial of 0 is 1\")\n",
        "else:\n",
        "   print(\"The factorial of\", num, \"is\", recur_factorial(num))"
      ]
    },
    {
      "cell_type": "markdown",
      "metadata": {
        "id": "DgOV7G2644Jm"
      },
      "source": [
        "16.b"
      ]
    },
    {
      "cell_type": "code",
      "metadata": {
        "id": "biTg_e4i5BLJ"
      },
      "source": [
        " \n",
        " \n",
        "print(\"Input lengths of the triangle sides: \")\n",
        "x = int(input(\"x: \"))\n",
        "y = int(input(\"y: \"))\n",
        "z = int(input(\"z: \"))\n",
        " \n",
        "if x == y == z:\n",
        "    print(\"Equilateral triangle\")\n",
        "elif x==y or y==z or z==x:\n",
        "    print(\"isosceles triangle\")\n",
        "else:\n",
        "    print(\"Scalene triangle\")"
      ],
      "execution_count": null,
      "outputs": []
    },
    {
      "cell_type": "markdown",
      "metadata": {
        "id": "rtEWC1ld5Juf"
      },
      "source": [
        "17.a\n",
        "Python has many built-in exceptions that are raised when your program encounters an error (something in the program goes wrong).\n",
        " \n",
        "When these exceptions occur, the Python interpreter stops the current process and passes it to the calling process until it is handled. If not handled, the program will crash.\n",
        " \n",
        "For example, let us consider a program where we have a function A that calls function B, which in turn calls function C. If an exception occurs in function C but is not handled in C, the exception passes to B and then to A.\n",
        " \n",
        "If never handled, an error message is displayed and our program comes to a sudden unexpected halt."
      ]
    }
  ]
}