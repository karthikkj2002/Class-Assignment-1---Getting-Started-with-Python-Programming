{
  "nbformat": 4,
  "nbformat_minor": 0,
  "metadata": {
    "colab": {
      "name": "Qn sessn2.ipynb",
      "provenance": [],
      "authorship_tag": "ABX9TyPKv02urI9ZTbq2lJPmBOwx",
      "include_colab_link": true
    },
    "kernelspec": {
      "name": "python3",
      "display_name": "Python 3"
    }
  },
  "cells": [
    {
      "cell_type": "markdown",
      "metadata": {
        "id": "view-in-github",
        "colab_type": "text"
      },
      "source": [
        "<a href=\"https://colab.research.google.com/github/karthikkj2002/Class-Assignment-1---Getting-Started-with-Python-Programming/blob/master/Qn_sessn2.ipynb\" target=\"_parent\"><img src=\"https://colab.research.google.com/assets/colab-badge.svg\" alt=\"Open In Colab\"/></a>"
      ]
    },
    {
      "cell_type": "code",
      "metadata": {
        "id": "TvNi7Q7LnKVL"
      },
      "source": [
        ""
      ],
      "execution_count": null,
      "outputs": []
    },
    {
      "cell_type": "markdown",
      "metadata": {
        "id": "DrIiz_g-nPtK"
      },
      "source": [
        "1."
      ]
    },
    {
      "cell_type": "code",
      "metadata": {
        "colab": {
          "base_uri": "https://localhost:8080/"
        },
        "id": "ySX35mBgnSCr",
        "outputId": "677016de-ae87-4673-a47b-8b73d2895040"
      },
      "source": [
        " \n",
        "b=[]\n",
        "for i in range(0,4):\n",
        "    a=int(input(\"Element: \"))\n",
        "    b.append(a)\n",
        "sum1=0\n",
        "sum2=0\n",
        "avg1=0\n",
        "avg2=0\n",
        "count1=0\n",
        "count2=0\n",
        "for j in b:\n",
        "    if(j>0):\n",
        "      \n",
        "      sum1=sum1+j\n",
        "      count1=count1+1\n",
        " \n",
        "    else:\n",
        "        sum2=sum2+j\n",
        "        count2=count2+1\n",
        " \n",
        "avg1=sum1/count1\n",
        "avg2=sum2/count2\n",
        "        \n",
        "print(\"Sum of all positive:\",sum1,\",Average=\",avg1)\n",
        "print(\"Sum of all Negative:\",sum2,\",Average=\",avg2)"
      ],
      "execution_count": 1,
      "outputs": [
        {
          "output_type": "stream",
          "text": [
            "Element: 5\n",
            "Element: -4\n",
            "Element: -6\n",
            "Element: 7\n",
            "Sum of all positive: 12 ,Average= 6.0\n",
            "Sum of all Negative: -10 ,Average= -5.0\n"
          ],
          "name": "stdout"
        }
      ]
    },
    {
      "cell_type": "markdown",
      "metadata": {
        "id": "Sp4ucN2toSnQ"
      },
      "source": [
        "2."
      ]
    },
    {
      "cell_type": "code",
      "metadata": {
        "id": "xZduizu0oTun",
        "outputId": "1b6afb7c-e748-4815-f62f-bc2c8f239834",
        "colab": {
          "base_uri": "https://localhost:8080/"
        }
      },
      "source": [
        " \n",
        "mystr= input(\"input the string\")\n",
        " frequencies = {} \n",
        "  \n",
        "for char in mystr: \n",
        "   if char in frequencies: \n",
        "      frequencies[char] += 1\n",
        "   else: \n",
        "      frequencies[char] = 1\n",
        " \n",
        "print (\"frequency in '{}' is :\\n {}\".format(mystr, str(frequencies)))"
      ],
      "execution_count": 11,
      "outputs": [
        {
          "output_type": "stream",
          "text": [
            "input the stringPython\n",
            "frequency in 'Python' is :\n",
            " {'P': 1, 'y': 1, 't': 1, 'h': 1, 'o': 1, 'n': 1}\n"
          ],
          "name": "stdout"
        }
      ]
    },
    {
      "cell_type": "markdown",
      "metadata": {
        "id": "yU7cMmvBsOqC"
      },
      "source": [
        "3."
      ]
    },
    {
      "cell_type": "code",
      "metadata": {
        "id": "8EeIw3wksQOv",
        "outputId": "a6551c29-d6a9-414a-ae84-e9337e5adab9",
        "colab": {
          "base_uri": "https://localhost:8080/"
        }
      },
      "source": [
        " \n",
        "unsorted_list = [3, 1, 0, 9, 4]\n",
        " sorted_list=[]\n",
        "while unsorted_list:\n",
        "     minimum = unsorted_list[0]\n",
        "     for item in unsorted_list:\n",
        "           if item < minimum:\n",
        "              minimum = item\n",
        "     sorted_list.append(minimum)\n",
        "     unsorted_list.remove(minimum)\n",
        " \n",
        "print(sorted_list)"
      ],
      "execution_count": 12,
      "outputs": [
        {
          "output_type": "stream",
          "text": [
            "[0, 1, 3, 4, 9]\n"
          ],
          "name": "stdout"
        }
      ]
    },
    {
      "cell_type": "markdown",
      "metadata": {
        "id": "r9GgjkpPsj0v"
      },
      "source": [
        "4."
      ]
    },
    {
      "cell_type": "code",
      "metadata": {
        "id": "bhdDSNlqsk_q",
        "outputId": "8dfbfb1a-d04e-4caa-bc78-013f5633fea3",
        "colab": {
          "base_uri": "https://localhost:8080/"
        }
      },
      "source": [
        " \n",
        "def isPalindrome(a):\n",
        " \n",
        "    return a == a[::-1]\n",
        " \n",
        "a=input(\"enter the string (case sensitive) :\")\n",
        " \n",
        "ans =  isPalindrome(a)\n",
        " \n",
        " \n",
        "if ans:\n",
        " \n",
        "    print(\"Yes, it is palindrome\")\n",
        " \n",
        "else:\n",
        " \n",
        "    print(\"No, it is not palindrome\")"
      ],
      "execution_count": 14,
      "outputs": [
        {
          "output_type": "stream",
          "text": [
            "enter the string (case sensitive) :racecar\n",
            "Yes, it is palindrome\n"
          ],
          "name": "stdout"
        }
      ]
    },
    {
      "cell_type": "markdown",
      "metadata": {
        "id": "gQFtWdZ6tsTb"
      },
      "source": [
        "5."
      ]
    },
    {
      "cell_type": "code",
      "metadata": {
        "id": "c12CA4tTttLP",
        "outputId": "f5549bba-6008-4aec-c165-f0889d4dfa91",
        "colab": {
          "base_uri": "https://localhost:8080/"
        }
      },
      "source": [
        " \n",
        "import math\n",
        "def fact(k):\n",
        "   if k<=1:\n",
        "     return 1\n",
        "   else:\n",
        "     return k* fact(k-1)\n",
        " \n",
        "step=int(input(\"enter the no of terms\"))\n",
        "x=int(input(\"enter the value of x\"))\n",
        "sum=0\n",
        "for i in range(step+1):\n",
        "   sum+=(math.pow(-1,i)*math.pow(x,2*i+1))/fact(2*i+1)\n",
        "print(\"The result of sin(\",step,\")\",sum)"
      ],
      "execution_count": 15,
      "outputs": [
        {
          "output_type": "stream",
          "text": [
            "enter the no of terms5\n",
            "enter the value of x30\n",
            "The result of sin( 5 ) -393690768.7012987\n"
          ],
          "name": "stdout"
        }
      ]
    },
    {
      "cell_type": "markdown",
      "metadata": {
        "id": "m7PrXGeqt9UG"
      },
      "source": [
        "6."
      ]
    },
    {
      "cell_type": "code",
      "metadata": {
        "id": "eCRK8tLKt-VZ",
        "outputId": "5069c9b7-92f6-4880-ae31-45e1b9cd9a0a",
        "colab": {
          "base_uri": "https://localhost:8080/"
        }
      },
      "source": [
        " \n",
        "password=input(\"Enter the password\")\n",
        "upper=False\n",
        "lower=False\n",
        "number=False\n",
        "special=False\n",
        "num=['0','1','2','3','4','5','6','7','8','9']\n",
        " \n",
        "if len(password)<6:\n",
        "   print(\"Password length is too short, minimum length should 6\")\n",
        "else:\n",
        "   for i in password:\n",
        "      if i.isupper()==True:\n",
        "         upper=True\n",
        "      elif i in num:\n",
        "         number=True\n",
        "      elif i.islower()==True:\n",
        "         lower=True\n",
        "      elif i==\"$\" or i==\"#\" or i==\"@\":\n",
        "         special=True\n",
        "if upper==True and lower==True and number==True and special==True:\n",
        "   print(\"Password accepted\")\n",
        "else:\n",
        "   print(\"Password not accepted\")"
      ],
      "execution_count": 17,
      "outputs": [
        {
          "output_type": "stream",
          "text": [
            "Enter the passwordK@rthi9\n",
            "Password accepted\n"
          ],
          "name": "stdout"
        }
      ]
    }
  ]
}