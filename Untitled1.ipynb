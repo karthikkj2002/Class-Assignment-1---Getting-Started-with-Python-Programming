{
  "nbformat": 4,
  "nbformat_minor": 0,
  "metadata": {
    "colab": {
      "name": "Untitled1.ipynb",
      "provenance": [],
      "authorship_tag": "ABX9TyMIpS98yFONvjS07xQCw1Ix",
      "include_colab_link": true
    },
    "kernelspec": {
      "name": "python3",
      "display_name": "Python 3"
    }
  },
  "cells": [
    {
      "cell_type": "markdown",
      "metadata": {
        "id": "view-in-github",
        "colab_type": "text"
      },
      "source": [
        "<a href=\"https://colab.research.google.com/github/karthikkj2002/Class-Assignment-1---Getting-Started-with-Python-Programming/blob/master/Untitled1.ipynb\" target=\"_parent\"><img src=\"https://colab.research.google.com/assets/colab-badge.svg\" alt=\"Open In Colab\"/></a>"
      ]
    },
    {
      "cell_type": "code",
      "metadata": {
        "id": "0Nw79h0xywJ7"
      },
      "source": [
        " \n",
        "Modify the find function so that it has a third parameter,the index in the string where it should start looking¶\n",
        "In [ ]:\n",
        "def find(str, ch,index):\n",
        "  #\n",
        "  while index < len(str):\n",
        "    if str[index] == ch:\n",
        "      return index\n",
        "    index = index + 1\n",
        "  return -1\n",
        "In [ ]:\n",
        "find('apple','p',3)\n",
        "Out[ ]:\n",
        "-1\n",
        "In [ ]:\n",
        "find('apple','l',1)\n",
        "Out[ ]:\n",
        "3\n",
        "In [ ]:\n",
        "find('apple','l',3)\n",
        "Out[ ]:\n",
        "3\n",
        "In [ ]:\n",
        "find('apple','l',4)\n",
        "Out[ ]:\n",
        "-1"
      ],
      "execution_count": null,
      "outputs": []
    }
  ]
}