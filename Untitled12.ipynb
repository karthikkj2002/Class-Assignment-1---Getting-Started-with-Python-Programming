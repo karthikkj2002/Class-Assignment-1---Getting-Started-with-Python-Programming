{
  "nbformat": 4,
  "nbformat_minor": 0,
  "metadata": {
    "colab": {
      "name": "Untitled12.ipynb",
      "provenance": [],
      "authorship_tag": "ABX9TyPaTtvnEkSGb/HrWyMKWJii",
      "include_colab_link": true
    },
    "kernelspec": {
      "name": "python3",
      "display_name": "Python 3"
    }
  },
  "cells": [
    {
      "cell_type": "markdown",
      "metadata": {
        "id": "view-in-github",
        "colab_type": "text"
      },
      "source": [
        "<a href=\"https://colab.research.google.com/github/karthikkj2002/Class-Assignment-1---Getting-Started-with-Python-Programming/blob/master/Untitled12.ipynb\" target=\"_parent\"><img src=\"https://colab.research.google.com/assets/colab-badge.svg\" alt=\"Open In Colab\"/></a>"
      ]
    },
    {
      "cell_type": "code",
      "metadata": {
        "id": "HLcfUpTQjRPb"
      },
      "source": [
        ""
      ],
      "execution_count": null,
      "outputs": []
    },
    {
      "cell_type": "markdown",
      "metadata": {
        "id": "1txZNoaPjR_t"
      },
      "source": [
        "1"
      ]
    },
    {
      "cell_type": "code",
      "metadata": {
        "id": "zlUuNRnKjSsw"
      },
      "source": [
        " \n",
        "class Member(self,name,age,phoneNumber,address,salary):\n",
        "  self.name=name\n",
        "  self.age=age\n",
        "  self.phoneNumber=phoneNumber\n",
        "  self.adress=address\n",
        "   \n",
        "  def PrintSalary():\n",
        "     print(\"salary\",self.salary)\n",
        "class employee(Member):\n",
        "   self.specilalisation=specialisation\n",
        "   super()._init_(self,name,age,phoneNumber, address, salary)\n",
        "   \n",
        "   def printSalary():\n",
        "      print(\"salary\",self.salary)\n",
        "class manager(Member):\n",
        "   \n",
        "   self.specilalisation=specialisation\n",
        "   super()._init_(self,name,age,phoneNumber, address, salary)"
      ],
      "execution_count": null,
      "outputs": []
    },
    {
      "cell_type": "markdown",
      "metadata": {
        "id": "tr4k62uJjVks"
      },
      "source": [
        "2"
      ]
    },
    {
      "cell_type": "code",
      "metadata": {
        "id": "H5zWyUbJjYKA"
      },
      "source": [
        " \n",
        "class student ():\n",
        "   def _init_(self,name):\n",
        "      self.name=name\n",
        "   def input():\n",
        "      self.name=input(\"enter name\")\n",
        "class sports():\n",
        "   def _init_(self,name,marks)\n",
        "     self.name=name\n",
        "     self.marks=marks\n",
        "   def input():\n",
        "     self.name=input(\"enter name\")\n",
        "     self.m1=int(input(\"\")\n",
        "     self.m2=int(input(\"\")\n",
        "     self.m3=int(input(\"\")\n",
        "     self.mark=input (\"enter sports mark\")\n",
        "   def displaysum():\n",
        "      print(\"sum:\",self.m1+self.m2+self.m3+self.mark)\n",
        "   def displaymark():\n",
        "      print(self.m1,self.m2,self.m3,self.mark)"
      ],
      "execution_count": null,
      "outputs": []
    },
    {
      "cell_type": "markdown",
      "metadata": {
        "id": "TkUXkkUhjY7E"
      },
      "source": [
        "3."
      ]
    },
    {
      "cell_type": "code",
      "metadata": {
        "id": "X10gB-dXjZsM"
      },
      "source": [
        " \n",
        "class Polygon:\n",
        "    def __init__(self, no_of_sides):\n",
        "        self.n = no_of_sides\n",
        "        self.sides = [0 for i in range(no_of_sides)]\n",
        " \n",
        "    def inputSides(self):\n",
        "        self.sides = [float(input(\"Enter side \"+str(i+1)+\" : \")) for i in range(self.n)]\n",
        " \n",
        "    def dispSides(self):\n",
        "        for i in range(self.n):\n",
        "            print(\"Side\",i+1,\"is\",self.sides[i])\n",
        "class Triangle(Polygon):\n",
        "    def __init__(self):\n",
        "        Polygon.__init__(self,3)\n",
        " \n",
        "    def findArea(self):\n",
        "        a, b, c = self.sides\n",
        "        s = (a + b + c) / 2\n",
        "        area = (s*(s-a)*(s-b)*(s-c)) ** 0.5\n",
        "        print('The area of the triangle is %0.2f' %area)\n",
        "class Square(Polygon):\n",
        "    def __init__(self):\n",
        "        Polygon.__init__(self,3)\n",
        " \n",
        "    def findArea(self):\n",
        "        d = self.sides\n",
        "        area = d**2\n",
        "        print('The area of the square is %0.2f' %area)"
      ],
      "execution_count": null,
      "outputs": []
    },
    {
      "cell_type": "markdown",
      "metadata": {
        "id": "bCwzPLg5jccz"
      },
      "source": [
        "4."
      ]
    },
    {
      "cell_type": "code",
      "metadata": {
        "id": "UvXH5yOnjdYq"
      },
      "source": [
        " \n",
        "import math\n",
        " \n",
        "class circle(object):\n",
        "   def _init(self,radius):\n",
        "     self.radius=radius\n",
        "   def area():\n",
        "      print(\"area:\",pi*self.radius**2)\n",
        "Obj=circle.area()"
      ],
      "execution_count": null,
      "outputs": []
    }
  ]
}