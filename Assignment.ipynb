{
  "nbformat": 4,
  "nbformat_minor": 0,
  "metadata": {
    "colab": {
      "name": "Assignment",
      "provenance": [],
      "authorship_tag": "ABX9TyMTbMwNz/DlHfWFlJOUyKLB",
      "include_colab_link": true
    },
    "kernelspec": {
      "name": "python3",
      "display_name": "Python 3"
    }
  },
  "cells": [
    {
      "cell_type": "markdown",
      "metadata": {
        "id": "view-in-github",
        "colab_type": "text"
      },
      "source": [
        "<a href=\"https://colab.research.google.com/github/karthikkj2002/Class-Assignment-1---Getting-Started-with-Python-Programming/blob/master/Assignment.ipynb\" target=\"_parent\"><img src=\"https://colab.research.google.com/assets/colab-badge.svg\" alt=\"Open In Colab\"/></a>"
      ]
    },
    {
      "cell_type": "code",
      "metadata": {
        "id": "8WfYLIPJkKhP"
      },
      "source": [
        ""
      ],
      "execution_count": null,
      "outputs": []
    },
    {
      "cell_type": "markdown",
      "metadata": {
        "id": "dkubwh7skLsv"
      },
      "source": [
        "1."
      ]
    },
    {
      "cell_type": "code",
      "metadata": {
        "colab": {
          "base_uri": "https://localhost:8080/",
          "height": 34
        },
        "id": "XEUmEOFqkPkL",
        "outputId": "28e5f6fb-9074-410b-995e-01fa47d23bf4"
      },
      "source": [
        "def reverse_lookup(d, v):\n",
        "    for k in d:\n",
        "        if d[k] == v:\n",
        "            return k\n",
        "dict1 = {'a': 1.6, 'c': 10, 'b': 11}\n",
        "reverse_lookup(dict1, 10)"
      ],
      "execution_count": 4,
      "outputs": [
        {
          "output_type": "execute_result",
          "data": {
            "application/vnd.google.colaboratory.intrinsic+json": {
              "type": "string"
            },
            "text/plain": [
              "'c'"
            ]
          },
          "metadata": {
            "tags": []
          },
          "execution_count": 4
        }
      ]
    },
    {
      "cell_type": "markdown",
      "metadata": {
        "id": "RbQHq5FWmZeq"
      },
      "source": [
        "4."
      ]
    },
    {
      "cell_type": "code",
      "metadata": {
        "colab": {
          "base_uri": "https://localhost:8080/"
        },
        "id": "udQYnsr7mazf",
        "outputId": "fb80ef97-dcf5-496b-e467-436a6db281d4"
      },
      "source": [
        " \n",
        "class Polygon:\n",
        "    def __init__(self,number,name):\n",
        "        self.number = number #3 - Triangle\n",
        "        self.name=name\n",
        "        self.sides=[]\n",
        "    def inputsides(self):\n",
        "      print(self.name)\n",
        "      for i in range(0,self.number):\n",
        "            ele=float(input(\"Enter side \"+str(i+1)+\" : \"))\n",
        "            self.sides.append(ele)\n",
        "class Triangle(Polygon):\n",
        "    def __init__(self):\n",
        "        Polygon.__init__(self, 3 ,\"TRIANGLE :\")\n",
        " \n",
        "    def trianglearea(self):\n",
        "        a, b, c = self.sides\n",
        "        s = (a + b + c) / 2\n",
        "        area = (s*(s-a)*(s-b)*(s-c)) ** 0.5\n",
        "        print(\"The area of the triangle is : %0.2f  \" % area)\n",
        " \n",
        "class Square(Polygon):\n",
        " \n",
        "    def __init__(self):\n",
        "        Polygon.__init__(self, 4, \"SQUARE :\")\n",
        " \n",
        "    def inputsides(self):\n",
        "      print(self.name)\n",
        "      self.sides=float(input(\"Enter side  : \"))\n",
        "      \n",
        "    \n",
        "    def squArea(self):\n",
        "        a = self.sides\n",
        "        area=a**2\n",
        "        print(\"The area of square is : %0.2f  \" % area)\n",
        " \n",
        " \n",
        "ob = Triangle()\n",
        "ob.inputsides() #BASE\n",
        "ob.trianglearea()\n",
        " \n",
        "ob1 = Square()\n",
        "ob1.inputsides() #DERIVED\n",
        "ob1.squArea()"
      ],
      "execution_count": 8,
      "outputs": [
        {
          "output_type": "stream",
          "text": [
            "TRIANGLE :\n",
            "Enter side 1 : 20\n",
            "Enter side 2 : 20\n",
            "Enter side 3 : 20\n",
            "The area of the triangle is : 173.21  \n",
            "SQUARE :\n",
            "Enter side  : 40\n",
            "The area of square is : 1600.00  \n"
          ],
          "name": "stdout"
        }
      ]
    },
    {
      "cell_type": "markdown",
      "metadata": {
        "id": "qfWZjXJnrDb_"
      },
      "source": [
        " 3."
      ]
    },
    {
      "cell_type": "code",
      "metadata": {
        "colab": {
          "base_uri": "https://localhost:8080/"
        },
        "id": "Zd-1v29mrG1Y",
        "outputId": "e34e6eef-8128-41c1-8e9d-f737a8e0629a"
      },
      "source": [
        "def Remove(duplicate):\n",
        "    final_list = []\n",
        "    for num in duplicate:\n",
        "        if num not in final_list:\n",
        "            final_list.append(num)\n",
        "    return final_list\n",
        " \n",
        "duplicate = [2, 4, 20, 10, 5, 2, 20, 5]\n",
        "print(Remove(duplicate))"
      ],
      "execution_count": 10,
      "outputs": [
        {
          "output_type": "stream",
          "text": [
            "[2, 4, 20, 10, 5]\n"
          ],
          "name": "stdout"
        }
      ]
    },
    {
      "cell_type": "markdown",
      "metadata": {
        "id": "s3AxaJ_DtuzV"
      },
      "source": [
        "2."
      ]
    },
    {
      "cell_type": "code",
      "metadata": {
        "colab": {
          "base_uri": "https://localhost:8080/"
        },
        "id": "aW0lKt5Ztv8Y",
        "outputId": "10b5c709-7024-4cc3-9d3b-50ae9cbf584e"
      },
      "source": [
        "class Rectangle():\n",
        "    def __init__(self, l, w):\n",
        "        self.length = l\n",
        "        self.width = w\n",
        " \n",
        "    def rectangle_area(self):\n",
        "        return self.length*self.width\n",
        "newRectangle = Rectangle(12, 10)\n",
        "print(newRectangle.rectangle_area())"
      ],
      "execution_count": 12,
      "outputs": [
        {
          "output_type": "stream",
          "text": [
            "120\n"
          ],
          "name": "stdout"
        }
      ]
    }
  ]
}