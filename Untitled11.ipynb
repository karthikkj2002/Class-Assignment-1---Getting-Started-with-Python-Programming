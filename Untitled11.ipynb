{
  "nbformat": 4,
  "nbformat_minor": 0,
  "metadata": {
    "colab": {
      "name": "Untitled11.ipynb",
      "provenance": [],
      "authorship_tag": "ABX9TyNoK0y8mTvzRzus98wSoYvy",
      "include_colab_link": true
    },
    "kernelspec": {
      "name": "python3",
      "display_name": "Python 3"
    }
  },
  "cells": [
    {
      "cell_type": "markdown",
      "metadata": {
        "id": "view-in-github",
        "colab_type": "text"
      },
      "source": [
        "<a href=\"https://colab.research.google.com/github/karthikkj2002/Class-Assignment-1---Getting-Started-with-Python-Programming/blob/master/Untitled11.ipynb\" target=\"_parent\"><img src=\"https://colab.research.google.com/assets/colab-badge.svg\" alt=\"Open In Colab\"/></a>"
      ]
    },
    {
      "cell_type": "code",
      "metadata": {
        "id": "H1XZdbkr4ZTU"
      },
      "source": [
        ""
      ],
      "execution_count": null,
      "outputs": []
    },
    {
      "cell_type": "markdown",
      "metadata": {
        "id": "wDU52tOg4aWC"
      },
      "source": [
        "1."
      ]
    },
    {
      "cell_type": "code",
      "metadata": {
        "colab": {
          "base_uri": "https://localhost:8080/"
        },
        "id": "MuvRLLHR4b_F",
        "outputId": "fd1590f3-bc1d-4e91-890e-5a9c445efef6"
      },
      "source": [
        " \n",
        "n=int(input(\"Enter the number of elements: \"))\n",
        "a=[]\n",
        "for i in range(0,n):\n",
        "    element=int(input(\"Enter element: \"))\n",
        "    a.append(element)\n",
        "avg=sum(a)/n\n",
        "print(\"Average of elements in the list\",round(avg,2))"
      ],
      "execution_count": 1,
      "outputs": [
        {
          "output_type": "stream",
          "text": [
            "Enter the number of elements: 5\n",
            "Enter element: 1\n",
            "Enter element: 2\n",
            "Enter element: 3\n",
            "Enter element: 4\n",
            "Enter element: 5\n",
            "Average of elements in the list 3.0\n"
          ],
          "name": "stdout"
        }
      ]
    },
    {
      "cell_type": "markdown",
      "metadata": {
        "id": "2Lef8FBb4sqQ"
      },
      "source": [
        "2."
      ]
    },
    {
      "cell_type": "code",
      "metadata": {
        "colab": {
          "base_uri": "https://localhost:8080/"
        },
        "id": "0qWVkKwz4toT",
        "outputId": "d5ba606a-9b4b-491f-aab9-d1305affb043"
      },
      "source": [
        " \n",
        "my_list = ['a', 'b','c']\n",
        "n = 3\n",
        "new_list = ['{}{}'.format(x, y) for y in range(1, n+1) for x in my_list]\n",
        "print(new_list)"
      ],
      "execution_count": 2,
      "outputs": [
        {
          "output_type": "stream",
          "text": [
            "['a1', 'b1', 'c1', 'a2', 'b2', 'c2', 'a3', 'b3', 'c3']\n"
          ],
          "name": "stdout"
        }
      ]
    },
    {
      "cell_type": "markdown",
      "metadata": {
        "id": "NCZMOBtz4yVR"
      },
      "source": [
        "4."
      ]
    },
    {
      "cell_type": "code",
      "metadata": {
        "colab": {
          "base_uri": "https://localhost:8080/"
        },
        "id": "OZFJyR3o4zN3",
        "outputId": "8cb3d7f8-577b-4a8f-a274-d52ab2cc98e2"
      },
      "source": [
        " \n",
        "def Frequency(my_list): \n",
        " \n",
        "      \n",
        " \n",
        "   \n",
        " \n",
        "    freq = {} \n",
        " \n",
        "    for items in my_list: \n",
        " \n",
        "        freq[items] = my_list.count(items) \n",
        " \n",
        "      \n",
        " \n",
        "    for key, value in freq.items(): \n",
        " \n",
        "        print (\"% d : % d\"%(key, value)) \n",
        " \n",
        "  \n",
        " \n",
        " \n",
        "if __name__ == \"__main__\":  \n",
        " \n",
        "    my_list =[1, 1,3 , 3,4,6,5, 5, 3, 1, 4, 7, 4, 2, 2, 9,9,9 ,2] \n",
        " \n",
        "    Frequency(my_list)"
      ],
      "execution_count": 3,
      "outputs": [
        {
          "output_type": "stream",
          "text": [
            " 1 :  3\n",
            " 3 :  3\n",
            " 4 :  3\n",
            " 6 :  1\n",
            " 5 :  2\n",
            " 7 :  1\n",
            " 2 :  3\n",
            " 9 :  3\n"
          ],
          "name": "stdout"
        }
      ]
    },
    {
      "cell_type": "markdown",
      "metadata": {
        "id": "ugZlxQnTGb0L"
      },
      "source": [
        "5."
      ]
    },
    {
      "cell_type": "code",
      "metadata": {
        "colab": {
          "base_uri": "https://localhost:8080/"
        },
        "id": "1Sb3253gGc7m",
        "outputId": "e5e3d5dc-6d21-4aba-8f6d-4f41f69532e5"
      },
      "source": [
        " \n",
        "list1 = [10, 20, 4, 45, 99]\n",
        " \n",
        "list1.sort()\n",
        " \n",
        "print(\"Second largest element is:\", list1[-2])"
      ],
      "execution_count": 4,
      "outputs": [
        {
          "output_type": "stream",
          "text": [
            "Second largest element is: 45\n"
          ],
          "name": "stdout"
        }
      ]
    },
    {
      "cell_type": "markdown",
      "metadata": {
        "id": "a-VSCQzHGkaL"
      },
      "source": [
        "6."
      ]
    },
    {
      "cell_type": "code",
      "metadata": {
        "colab": {
          "base_uri": "https://localhost:8080/"
        },
        "id": "M4XUO46XGlMN",
        "outputId": "3e39d8dc-a7ce-49d6-9980-74db99a66433"
      },
      "source": [
        " \n",
        "def countelements(list1, l, r): \n",
        " \n",
        "    count = 0 \n",
        " \n",
        "    \n",
        " \n",
        "    for x in list1: \n",
        " \n",
        "        \n",
        " \n",
        "        if x>= l and x<= r: \n",
        " \n",
        "            count+= 1 \n",
        " \n",
        "    return count\n",
        " \n",
        "      \n",
        " \n",
        " \n",
        "list1 = [1, 2, 3, 4, 5, 4, 4, 6, 7] \n",
        " \n",
        "l = 4\n",
        " \n",
        "r = 8\n",
        " \n",
        "print(countelements(list1, l, r))"
      ],
      "execution_count": 5,
      "outputs": [
        {
          "output_type": "stream",
          "text": [
            "6\n"
          ],
          "name": "stdout"
        }
      ]
    },
    {
      "cell_type": "markdown",
      "metadata": {
        "id": "28gNyPWpGtnG"
      },
      "source": [
        "7."
      ]
    },
    {
      "cell_type": "code",
      "metadata": {
        "colab": {
          "base_uri": "https://localhost:8080/"
        },
        "id": "m1UTik_NGuTL",
        "outputId": "1b2852b6-e5be-4b01-c97d-1ccf6613d03e"
      },
      "source": [
        " \n",
        "list1 = [10, 20, 4, 45, 99]\n",
        " \n",
        "list1.sort()\n",
        " \n",
        "print(\"Second smallest element is:\", list1[1])"
      ],
      "execution_count": 6,
      "outputs": [
        {
          "output_type": "stream",
          "text": [
            "Second smallest element is: 10\n"
          ],
          "name": "stdout"
        }
      ]
    }
  ]
}